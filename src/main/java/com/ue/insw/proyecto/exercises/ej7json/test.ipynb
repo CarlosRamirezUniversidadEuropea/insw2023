{
 "cells": [
  {
   "cell_type": "code",
   "execution_count": 1,
   "metadata": {},
   "outputs": [],
   "source": [
    "import requests"
   ]
  },
  {
   "cell_type": "code",
   "execution_count": 2,
   "metadata": {},
   "outputs": [],
   "source": [
    "url1 = \"https://raw.githubusercontent.com/CarlosRamirezUniversidadEuropea/json-data/main/sensor_values.json\"\n",
    "url2 = \"https://raw.githubusercontent.com/CarlosRamirezUniversidadEuropea/json-data/main/sensor_descr.json\""
   ]
  },
  {
   "cell_type": "code",
   "execution_count": 3,
   "metadata": {},
   "outputs": [],
   "source": [
    "# Get the data from the URL and store in a variable\n",
    "data1 = requests.get(url1).json()\n",
    "data2 = requests.get(url2).json()"
   ]
  },
  {
   "cell_type": "code",
   "execution_count": 17,
   "metadata": {},
   "outputs": [
    {
     "data": {
      "text/plain": [
       "[{'type': 664,\n",
       "  'num': 2,\n",
       "  'values': [[{'v': 233.19}, {'v': 3.2}], [{'v': 226.2}, {'v': 0.3}]]},\n",
       " {'type': 665, 'num': 1, 'values': [[{'v': 27.1}, {'v': 40.3}]]}]"
      ]
     },
     "execution_count": 17,
     "metadata": {},
     "output_type": "execute_result"
    }
   ],
   "source": [
    "data1"
   ]
  },
  {
   "cell_type": "code",
   "execution_count": 9,
   "metadata": {},
   "outputs": [
    {
     "data": {
      "text/plain": [
       "{'type': 665,\n",
       " 'num': 1,\n",
       " 'fields': [{'name': 'Temperature', 'unit': 'C', 'decPrecision': 1},\n",
       "  {'name': 'Humidity', 'unit': '%', 'decPrecision': 1}],\n",
       " 'properties': [{'id': '6102', 'name': 'Server-Rack'}]}"
      ]
     },
     "execution_count": 9,
     "metadata": {},
     "output_type": "execute_result"
    }
   ],
   "source": [
    "data2[1]"
   ]
  },
  {
   "cell_type": "code",
   "execution_count": null,
   "metadata": {},
   "outputs": [],
   "source": []
  }
 ],
 "metadata": {
  "kernelspec": {
   "display_name": "Python 3",
   "language": "python",
   "name": "python3"
  },
  "language_info": {
   "codemirror_mode": {
    "name": "ipython",
    "version": 3
   },
   "file_extension": ".py",
   "mimetype": "text/x-python",
   "name": "python",
   "nbconvert_exporter": "python",
   "pygments_lexer": "ipython3",
   "version": "3.10.6"
  }
 },
 "nbformat": 4,
 "nbformat_minor": 2
}
